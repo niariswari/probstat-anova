{
 "cells": [
  {
   "cell_type": "markdown",
   "id": "a46663d7",
   "metadata": {},
   "source": [
    "# Studi Kasus ANOVA: Pengaruh Waktu Belajar dan Tipe Kepribadian terhadap Nilai Mahasiswa\n",
    "\n",
    "## 🎯 Tujuan\n",
    "Melakukan **Two-Way ANOVA dengan interaksi** untuk mengetahui:\n",
    "1. Apakah waktu belajar berpengaruh terhadap nilai ujian?\n",
    "2. Apakah tipe kepribadian berpengaruh terhadap nilai ujian?\n",
    "3. Apakah ada **interaksi** antara waktu belajar dan tipe kepribadian?\n",
    "\n",
    "---\n"
   ]
  },
  {
   "cell_type": "code",
   "execution_count": null,
   "id": "45908ed8",
   "metadata": {},
   "outputs": [
    {
     "ename": "",
     "evalue": "",
     "output_type": "error",
     "traceback": [
      "\u001b[1;31mFailed to start the Kernel. \n",
      "\u001b[1;31mUnable to start Kernel 'Python 3.13.0' due to a timeout waiting for the ports to get used. \n",
      "\u001b[1;31mView Jupyter <a href='command:jupyter.viewOutput'>log</a> for further details."
     ]
    }
   ],
   "source": [
    "# Import library\n",
    "import pandas as pd\n",
    "import statsmodels.api as sm\n",
    "from statsmodels.formula.api import ols\n",
    "import seaborn as sns\n",
    "import matplotlib.pyplot as plt\n"
   ]
  },
  {
   "cell_type": "markdown",
   "id": "9b6199b0",
   "metadata": {},
   "source": [
    "## 📊 Data Disimulasikan\n",
    "\n",
    "Data disimulasikan berdasarkan dua faktor:\n",
    "- Waktu Belajar: 1 Jam, 2 Jam, 3 Jam\n",
    "- Kepribadian: Introvert, Ekstrovert\n"
   ]
  },
  {
   "cell_type": "code",
   "execution_count": null,
   "id": "2f8cc878",
   "metadata": {},
   "outputs": [],
   "source": [
    "# Dataset\n",
    "data = {\n",
    "    'Waktu': ['1 Jam'] * 4 + ['2 Jam'] * 4 + ['3 Jam'] * 4,\n",
    "    'Kepribadian': ['Introvert', 'Introvert', 'Ekstrovert', 'Ekstrovert'] * 3,\n",
    "    'Nilai': [70, 72, 74, 76, 78, 75, 82, 80, 88, 86, 84, 90]\n",
    "}\n",
    "\n",
    "df = pd.DataFrame(data)\n",
    "df\n"
   ]
  },
  {
   "cell_type": "markdown",
   "id": "e0f51288",
   "metadata": {},
   "source": [
    "## 📈 Visualisasi Boxplot\n",
    "\n",
    "Melihat sebaran nilai berdasarkan waktu belajar dan tipe kepribadian.\n"
   ]
  },
  {
   "cell_type": "code",
   "execution_count": null,
   "id": "69a497b1",
   "metadata": {},
   "outputs": [],
   "source": [
    "# Visualisasi\n",
    "sns.boxplot(x='Waktu', y='Nilai', hue='Kepribadian', data=df)\n",
    "plt.title('Nilai Mahasiswa berdasarkan Waktu Belajar dan Kepribadian')\n",
    "plt.show()\n"
   ]
  },
  {
   "cell_type": "markdown",
   "id": "7b800896",
   "metadata": {},
   "source": [
    "## 🔍 Two-Way ANOVA (dengan Interaksi)\n",
    "\n",
    "Menggunakan `statsmodels` untuk analisis varians dua arah.\n"
   ]
  },
  {
   "cell_type": "code",
   "execution_count": null,
   "id": "453907d3",
   "metadata": {},
   "outputs": [],
   "source": [
    "# Two-way ANOVA with interaction\n",
    "model = ols('Nilai ~ C(Waktu) * C(Kepribadian)', data=df).fit()\n",
    "anova_table = sm.stats.anova_lm(model, typ=2)\n",
    "anova_table\n"
   ]
  },
  {
   "cell_type": "markdown",
   "id": "9492ab08",
   "metadata": {},
   "source": [
    "## ✅ Interpretasi Hasil\n",
    "\n",
    "Jika nilai **p < 0.05** untuk suatu faktor, berarti faktor tersebut berpengaruh signifikan terhadap nilai.\n",
    "\n",
    "- Jika `C(Waktu)` signifikan → Waktu belajar berpengaruh\n",
    "- Jika `C(Kepribadian)` signifikan → Kepribadian berpengaruh\n",
    "- Jika `C(Waktu):C(Kepribadian)` signifikan → Ada interaksi antara keduanya\n"
   ]
  }
 ],
 "metadata": {
  "kernelspec": {
   "display_name": "Python 3",
   "language": "python",
   "name": "python3"
  },
  "language_info": {
   "name": "python",
   "version": "3.13.0"
  }
 },
 "nbformat": 4,
 "nbformat_minor": 5
}
